{
 "cells": [
  {
   "cell_type": "markdown",
   "id": "8feaf6ab",
   "metadata": {},
   "source": [
    "### 3. High-level analysis\n",
    "\n",
    "Perform **at least 6** higher-level analyses of your data. You are free to use any techniques we discussed in class, including but not limited to:\n",
    "\n",
    "* Use Pandas features to answer specific questions about the data\n",
    "* Perform a cluster analysis to identify groups within your data\n",
    "* Identify and motivate a machine learning problem in your data (classification or regression). Create a train/test/validation split and evaluate how well an appropriate model performs\n",
    "* Perform a linear regression to show the relationship between two variables\n",
    "\n",
    "If applicable to an analysis, you **must** include:\n",
    "\n",
    "* Appropriate statistical test(s)\n",
    "* An appropriate visualization.\n",
    "\n",
    "Please take advantage of the check-ins or office hours if you are unsure whether a visualization or statistical test is necessary for an analysis."
   ]
  },
  {
   "cell_type": "code",
   "execution_count": 1,
   "id": "0ca1af4f",
   "metadata": {},
   "outputs": [
    {
     "data": {
      "application/vnd.microsoft.datawrangler.viewer.v0+json": {
       "columns": [
        {
         "name": "index",
         "rawType": "int64",
         "type": "integer"
        },
        {
         "name": "ARREST_KEY",
         "rawType": "int64",
         "type": "integer"
        },
        {
         "name": "ARREST_DATE",
         "rawType": "datetime64[ns]",
         "type": "datetime"
        },
        {
         "name": "PD_CD",
         "rawType": "int64",
         "type": "integer"
        },
        {
         "name": "PD_DESC",
         "rawType": "object",
         "type": "string"
        },
        {
         "name": "KY_CD",
         "rawType": "float64",
         "type": "float"
        },
        {
         "name": "OFNS_DESC",
         "rawType": "object",
         "type": "string"
        },
        {
         "name": "LAW_CODE",
         "rawType": "object",
         "type": "string"
        },
        {
         "name": "LAW_CAT_CD",
         "rawType": "object",
         "type": "string"
        },
        {
         "name": "ARREST_BORO",
         "rawType": "object",
         "type": "string"
        },
        {
         "name": "ARREST_PRECINCT",
         "rawType": "int64",
         "type": "integer"
        },
        {
         "name": "JURISDICTION_CODE",
         "rawType": "int64",
         "type": "integer"
        },
        {
         "name": "AGE_GROUP",
         "rawType": "object",
         "type": "string"
        },
        {
         "name": "PERP_SEX",
         "rawType": "object",
         "type": "string"
        },
        {
         "name": "PERP_RACE",
         "rawType": "object",
         "type": "string"
        },
        {
         "name": "X_COORD_CD",
         "rawType": "int64",
         "type": "integer"
        },
        {
         "name": "Y_COORD_CD",
         "rawType": "int64",
         "type": "integer"
        },
        {
         "name": "Latitude",
         "rawType": "float64",
         "type": "float"
        },
        {
         "name": "Longitude",
         "rawType": "float64",
         "type": "float"
        },
        {
         "name": "New Georeferenced Column",
         "rawType": "object",
         "type": "string"
        },
        {
         "name": "MIN_AGE",
         "rawType": "int64",
         "type": "integer"
        },
        {
         "name": "MAX_AGE",
         "rawType": "int64",
         "type": "integer"
        },
        {
         "name": "DAY_OF_WEEK",
         "rawType": "object",
         "type": "string"
        },
        {
         "name": "MONTH",
         "rawType": "object",
         "type": "string"
        }
       ],
       "conversionMethod": "pd.DataFrame",
       "ref": "eb7b167f-3e88-4343-8f2e-5573d5bf0b06",
       "rows": [
        [
         "0",
         "298799078",
         "2025-01-02 00:00:00",
         "101",
         "ASSAULT 3",
         "344.0",
         "ASSAULT 3 & RELATED OFFENSES",
         "PL 1200001",
         "M",
         "M",
         "23",
         "0",
         "25-44",
         "F",
         "BLACK",
         "1000213",
         "228833",
         "40.79475532416718",
         "-73.9423482609703",
         "POINT (-73.9423482609703 40.79475532416718)",
         "25",
         "44",
         "Thursday",
         "January"
        ],
        [
         "1",
         "299008265",
         "2025-01-07 00:00:00",
         "105",
         "STRANGULATION 1ST",
         "106.0",
         "FELONY ASSAULT",
         "PL 1211200",
         "F",
         "Q",
         "113",
         "0",
         "45-64",
         "M",
         "BLACK",
         "1046399",
         "187126",
         "40.680086",
         "-73.775931",
         "POINT (-73.775931 40.680086)",
         "45",
         "64",
         "Tuesday",
         "January"
        ],
        [
         "2",
         "298969999",
         "2025-01-06 00:00:00",
         "793",
         "WEAPONS POSSESSION 3",
         "118.0",
         "DANGEROUS WEAPONS",
         "PL 2650201",
         "F",
         "M",
         "5",
         "73",
         "25-44",
         "M",
         "WHITE",
         "983907",
         "199958",
         "40.715526",
         "-74.001238",
         "POINT (-74.001238 40.715526)",
         "25",
         "44",
         "Monday",
         "January"
        ],
        [
         "3",
         "299436365",
         "2025-01-14 00:00:00",
         "157",
         "RAPE 1",
         "104.0",
         "RAPE",
         "PL 130352B",
         "F",
         "Q",
         "112",
         "0",
         "45-64",
         "M",
         "BLACK",
         "1025401",
         "202586",
         "40.7226409964758",
         "-73.8515418216779",
         "POINT (-73.8515418216779 40.7226409964758)",
         "45",
         "64",
         "Tuesday",
         "January"
        ],
        [
         "4",
         "299562518",
         "2025-01-16 00:00:00",
         "397",
         "ROBBERY,OPEN AREA UNCLASSIFIED",
         "105.0",
         "ROBBERY",
         "PL 1601504",
         "F",
         "M",
         "26",
         "0",
         "<18",
         "M",
         "BLACK",
         "996342",
         "236149",
         "40.814853",
         "-73.956314",
         "POINT (-73.956314 40.814853)",
         "0",
         "17",
         "Thursday",
         "January"
        ]
       ],
       "shape": {
        "columns": 23,
        "rows": 5
       }
      },
      "text/html": [
       "<div>\n",
       "<style scoped>\n",
       "    .dataframe tbody tr th:only-of-type {\n",
       "        vertical-align: middle;\n",
       "    }\n",
       "\n",
       "    .dataframe tbody tr th {\n",
       "        vertical-align: top;\n",
       "    }\n",
       "\n",
       "    .dataframe thead th {\n",
       "        text-align: right;\n",
       "    }\n",
       "</style>\n",
       "<table border=\"1\" class=\"dataframe\">\n",
       "  <thead>\n",
       "    <tr style=\"text-align: right;\">\n",
       "      <th></th>\n",
       "      <th>ARREST_KEY</th>\n",
       "      <th>ARREST_DATE</th>\n",
       "      <th>PD_CD</th>\n",
       "      <th>PD_DESC</th>\n",
       "      <th>KY_CD</th>\n",
       "      <th>OFNS_DESC</th>\n",
       "      <th>LAW_CODE</th>\n",
       "      <th>LAW_CAT_CD</th>\n",
       "      <th>ARREST_BORO</th>\n",
       "      <th>ARREST_PRECINCT</th>\n",
       "      <th>...</th>\n",
       "      <th>PERP_RACE</th>\n",
       "      <th>X_COORD_CD</th>\n",
       "      <th>Y_COORD_CD</th>\n",
       "      <th>Latitude</th>\n",
       "      <th>Longitude</th>\n",
       "      <th>New Georeferenced Column</th>\n",
       "      <th>MIN_AGE</th>\n",
       "      <th>MAX_AGE</th>\n",
       "      <th>DAY_OF_WEEK</th>\n",
       "      <th>MONTH</th>\n",
       "    </tr>\n",
       "  </thead>\n",
       "  <tbody>\n",
       "    <tr>\n",
       "      <th>0</th>\n",
       "      <td>298799078</td>\n",
       "      <td>2025-01-02</td>\n",
       "      <td>101</td>\n",
       "      <td>ASSAULT 3</td>\n",
       "      <td>344.0</td>\n",
       "      <td>ASSAULT 3 &amp; RELATED OFFENSES</td>\n",
       "      <td>PL 1200001</td>\n",
       "      <td>M</td>\n",
       "      <td>M</td>\n",
       "      <td>23</td>\n",
       "      <td>...</td>\n",
       "      <td>BLACK</td>\n",
       "      <td>1000213</td>\n",
       "      <td>228833</td>\n",
       "      <td>40.794755</td>\n",
       "      <td>-73.942348</td>\n",
       "      <td>POINT (-73.9423482609703 40.79475532416718)</td>\n",
       "      <td>25</td>\n",
       "      <td>44</td>\n",
       "      <td>Thursday</td>\n",
       "      <td>January</td>\n",
       "    </tr>\n",
       "    <tr>\n",
       "      <th>1</th>\n",
       "      <td>299008265</td>\n",
       "      <td>2025-01-07</td>\n",
       "      <td>105</td>\n",
       "      <td>STRANGULATION 1ST</td>\n",
       "      <td>106.0</td>\n",
       "      <td>FELONY ASSAULT</td>\n",
       "      <td>PL 1211200</td>\n",
       "      <td>F</td>\n",
       "      <td>Q</td>\n",
       "      <td>113</td>\n",
       "      <td>...</td>\n",
       "      <td>BLACK</td>\n",
       "      <td>1046399</td>\n",
       "      <td>187126</td>\n",
       "      <td>40.680086</td>\n",
       "      <td>-73.775931</td>\n",
       "      <td>POINT (-73.775931 40.680086)</td>\n",
       "      <td>45</td>\n",
       "      <td>64</td>\n",
       "      <td>Tuesday</td>\n",
       "      <td>January</td>\n",
       "    </tr>\n",
       "    <tr>\n",
       "      <th>2</th>\n",
       "      <td>298969999</td>\n",
       "      <td>2025-01-06</td>\n",
       "      <td>793</td>\n",
       "      <td>WEAPONS POSSESSION 3</td>\n",
       "      <td>118.0</td>\n",
       "      <td>DANGEROUS WEAPONS</td>\n",
       "      <td>PL 2650201</td>\n",
       "      <td>F</td>\n",
       "      <td>M</td>\n",
       "      <td>5</td>\n",
       "      <td>...</td>\n",
       "      <td>WHITE</td>\n",
       "      <td>983907</td>\n",
       "      <td>199958</td>\n",
       "      <td>40.715526</td>\n",
       "      <td>-74.001238</td>\n",
       "      <td>POINT (-74.001238 40.715526)</td>\n",
       "      <td>25</td>\n",
       "      <td>44</td>\n",
       "      <td>Monday</td>\n",
       "      <td>January</td>\n",
       "    </tr>\n",
       "    <tr>\n",
       "      <th>3</th>\n",
       "      <td>299436365</td>\n",
       "      <td>2025-01-14</td>\n",
       "      <td>157</td>\n",
       "      <td>RAPE 1</td>\n",
       "      <td>104.0</td>\n",
       "      <td>RAPE</td>\n",
       "      <td>PL 130352B</td>\n",
       "      <td>F</td>\n",
       "      <td>Q</td>\n",
       "      <td>112</td>\n",
       "      <td>...</td>\n",
       "      <td>BLACK</td>\n",
       "      <td>1025401</td>\n",
       "      <td>202586</td>\n",
       "      <td>40.722641</td>\n",
       "      <td>-73.851542</td>\n",
       "      <td>POINT (-73.8515418216779 40.7226409964758)</td>\n",
       "      <td>45</td>\n",
       "      <td>64</td>\n",
       "      <td>Tuesday</td>\n",
       "      <td>January</td>\n",
       "    </tr>\n",
       "    <tr>\n",
       "      <th>4</th>\n",
       "      <td>299562518</td>\n",
       "      <td>2025-01-16</td>\n",
       "      <td>397</td>\n",
       "      <td>ROBBERY,OPEN AREA UNCLASSIFIED</td>\n",
       "      <td>105.0</td>\n",
       "      <td>ROBBERY</td>\n",
       "      <td>PL 1601504</td>\n",
       "      <td>F</td>\n",
       "      <td>M</td>\n",
       "      <td>26</td>\n",
       "      <td>...</td>\n",
       "      <td>BLACK</td>\n",
       "      <td>996342</td>\n",
       "      <td>236149</td>\n",
       "      <td>40.814853</td>\n",
       "      <td>-73.956314</td>\n",
       "      <td>POINT (-73.956314 40.814853)</td>\n",
       "      <td>0</td>\n",
       "      <td>17</td>\n",
       "      <td>Thursday</td>\n",
       "      <td>January</td>\n",
       "    </tr>\n",
       "  </tbody>\n",
       "</table>\n",
       "<p>5 rows × 23 columns</p>\n",
       "</div>"
      ],
      "text/plain": [
       "   ARREST_KEY ARREST_DATE  PD_CD                         PD_DESC  KY_CD  \\\n",
       "0   298799078  2025-01-02    101                       ASSAULT 3  344.0   \n",
       "1   299008265  2025-01-07    105               STRANGULATION 1ST  106.0   \n",
       "2   298969999  2025-01-06    793            WEAPONS POSSESSION 3  118.0   \n",
       "3   299436365  2025-01-14    157                          RAPE 1  104.0   \n",
       "4   299562518  2025-01-16    397  ROBBERY,OPEN AREA UNCLASSIFIED  105.0   \n",
       "\n",
       "                      OFNS_DESC    LAW_CODE LAW_CAT_CD ARREST_BORO  \\\n",
       "0  ASSAULT 3 & RELATED OFFENSES  PL 1200001          M           M   \n",
       "1                FELONY ASSAULT  PL 1211200          F           Q   \n",
       "2             DANGEROUS WEAPONS  PL 2650201          F           M   \n",
       "3                          RAPE  PL 130352B          F           Q   \n",
       "4                       ROBBERY  PL 1601504          F           M   \n",
       "\n",
       "   ARREST_PRECINCT  ...  PERP_RACE X_COORD_CD Y_COORD_CD   Latitude  \\\n",
       "0               23  ...      BLACK    1000213     228833  40.794755   \n",
       "1              113  ...      BLACK    1046399     187126  40.680086   \n",
       "2                5  ...      WHITE     983907     199958  40.715526   \n",
       "3              112  ...      BLACK    1025401     202586  40.722641   \n",
       "4               26  ...      BLACK     996342     236149  40.814853   \n",
       "\n",
       "   Longitude                     New Georeferenced Column  MIN_AGE  MAX_AGE  \\\n",
       "0 -73.942348  POINT (-73.9423482609703 40.79475532416718)       25       44   \n",
       "1 -73.775931                 POINT (-73.775931 40.680086)       45       64   \n",
       "2 -74.001238                 POINT (-74.001238 40.715526)       25       44   \n",
       "3 -73.851542   POINT (-73.8515418216779 40.7226409964758)       45       64   \n",
       "4 -73.956314                 POINT (-73.956314 40.814853)        0       17   \n",
       "\n",
       "  DAY_OF_WEEK    MONTH  \n",
       "0    Thursday  January  \n",
       "1     Tuesday  January  \n",
       "2      Monday  January  \n",
       "3     Tuesday  January  \n",
       "4    Thursday  January  \n",
       "\n",
       "[5 rows x 23 columns]"
      ]
     },
     "execution_count": 1,
     "metadata": {},
     "output_type": "execute_result"
    }
   ],
   "source": [
    "import pandas as pd\n",
    "\n",
    "df = pd.read_csv(\"../datasets/processed/arrests2025_cleaned.csv\")\n",
    "df['ARREST_DATE'] = pd.to_datetime(df['ARREST_DATE'])\n",
    "df.head()"
   ]
  },
  {
   "cell_type": "code",
   "execution_count": 2,
   "id": "e9f14255",
   "metadata": {},
   "outputs": [
    {
     "name": "stdout",
     "output_type": "stream",
     "text": [
      "<class 'pandas.core.frame.DataFrame'>\n",
      "RangeIndex: 71028 entries, 0 to 71027\n",
      "Data columns (total 23 columns):\n",
      " #   Column                    Non-Null Count  Dtype         \n",
      "---  ------                    --------------  -----         \n",
      " 0   ARREST_KEY                71028 non-null  int64         \n",
      " 1   ARREST_DATE               71028 non-null  datetime64[ns]\n",
      " 2   PD_CD                     71028 non-null  int64         \n",
      " 3   PD_DESC                   71028 non-null  object        \n",
      " 4   KY_CD                     71024 non-null  float64       \n",
      " 5   OFNS_DESC                 71028 non-null  object        \n",
      " 6   LAW_CODE                  71028 non-null  object        \n",
      " 7   LAW_CAT_CD                70668 non-null  object        \n",
      " 8   ARREST_BORO               71028 non-null  object        \n",
      " 9   ARREST_PRECINCT           71028 non-null  int64         \n",
      " 10  JURISDICTION_CODE         71028 non-null  int64         \n",
      " 11  AGE_GROUP                 71028 non-null  object        \n",
      " 12  PERP_SEX                  71028 non-null  object        \n",
      " 13  PERP_RACE                 71028 non-null  object        \n",
      " 14  X_COORD_CD                71028 non-null  int64         \n",
      " 15  Y_COORD_CD                71028 non-null  int64         \n",
      " 16  Latitude                  71028 non-null  float64       \n",
      " 17  Longitude                 71028 non-null  float64       \n",
      " 18  New Georeferenced Column  71028 non-null  object        \n",
      " 19  MIN_AGE                   71028 non-null  int64         \n",
      " 20  MAX_AGE                   71028 non-null  int64         \n",
      " 21  DAY_OF_WEEK               71028 non-null  object        \n",
      " 22  MONTH                     71028 non-null  object        \n",
      "dtypes: datetime64[ns](1), float64(3), int64(8), object(11)\n",
      "memory usage: 12.5+ MB\n"
     ]
    }
   ],
   "source": [
    "df.info()"
   ]
  },
  {
   "cell_type": "code",
   "execution_count": 3,
   "id": "5a4339fa",
   "metadata": {},
   "outputs": [
    {
     "data": {
      "text/plain": [
       "DAY_OF_WEEK\n",
       "Wednesday    12618\n",
       "Thursday     11733\n",
       "Tuesday      10991\n",
       "Friday       10408\n",
       "Saturday      8875\n",
       "Monday        8837\n",
       "Sunday        7566\n",
       "Name: count, dtype: int64"
      ]
     },
     "execution_count": 3,
     "metadata": {},
     "output_type": "execute_result"
    }
   ],
   "source": [
    "df['DAY_OF_WEEK'].value_counts()"
   ]
  },
  {
   "cell_type": "code",
   "execution_count": 4,
   "id": "8416bc49",
   "metadata": {},
   "outputs": [
    {
     "data": {
      "application/vnd.microsoft.datawrangler.viewer.v0+json": {
       "columns": [
        {
         "name": "index",
         "rawType": "int64",
         "type": "integer"
        },
        {
         "name": "AGE_GROUP",
         "rawType": "object",
         "type": "string"
        },
        {
         "name": "count",
         "rawType": "int64",
         "type": "integer"
        }
       ],
       "conversionMethod": "pd.DataFrame",
       "ref": "508c055d-bfed-4a2c-8526-67a6638da579",
       "rows": [
        [
         "0",
         "25-44",
         "41711"
        ],
        [
         "1",
         "45-64",
         "15016"
        ],
        [
         "2",
         "18-24",
         "10516"
        ],
        [
         "3",
         "<18",
         "2442"
        ],
        [
         "4",
         "65+",
         "1343"
        ]
       ],
       "shape": {
        "columns": 2,
        "rows": 5
       }
      },
      "text/html": [
       "<div>\n",
       "<style scoped>\n",
       "    .dataframe tbody tr th:only-of-type {\n",
       "        vertical-align: middle;\n",
       "    }\n",
       "\n",
       "    .dataframe tbody tr th {\n",
       "        vertical-align: top;\n",
       "    }\n",
       "\n",
       "    .dataframe thead th {\n",
       "        text-align: right;\n",
       "    }\n",
       "</style>\n",
       "<table border=\"1\" class=\"dataframe\">\n",
       "  <thead>\n",
       "    <tr style=\"text-align: right;\">\n",
       "      <th></th>\n",
       "      <th>AGE_GROUP</th>\n",
       "      <th>count</th>\n",
       "    </tr>\n",
       "  </thead>\n",
       "  <tbody>\n",
       "    <tr>\n",
       "      <th>0</th>\n",
       "      <td>25-44</td>\n",
       "      <td>41711</td>\n",
       "    </tr>\n",
       "    <tr>\n",
       "      <th>1</th>\n",
       "      <td>45-64</td>\n",
       "      <td>15016</td>\n",
       "    </tr>\n",
       "    <tr>\n",
       "      <th>2</th>\n",
       "      <td>18-24</td>\n",
       "      <td>10516</td>\n",
       "    </tr>\n",
       "    <tr>\n",
       "      <th>3</th>\n",
       "      <td>&lt;18</td>\n",
       "      <td>2442</td>\n",
       "    </tr>\n",
       "    <tr>\n",
       "      <th>4</th>\n",
       "      <td>65+</td>\n",
       "      <td>1343</td>\n",
       "    </tr>\n",
       "  </tbody>\n",
       "</table>\n",
       "</div>"
      ],
      "text/plain": [
       "  AGE_GROUP  count\n",
       "0     25-44  41711\n",
       "1     45-64  15016\n",
       "2     18-24  10516\n",
       "3       <18   2442\n",
       "4       65+   1343"
      ]
     },
     "execution_count": 4,
     "metadata": {},
     "output_type": "execute_result"
    }
   ],
   "source": [
    "df_age = df.groupby(\"AGE_GROUP\", as_index=False)['AGE_GROUP'].value_counts().sort_values(by='count', ascending=False).reset_index(drop=True)\n",
    "df_age.head()"
   ]
  },
  {
   "cell_type": "code",
   "execution_count": 5,
   "id": "479f1bda",
   "metadata": {},
   "outputs": [
    {
     "data": {
      "application/vnd.microsoft.datawrangler.viewer.v0+json": {
       "columns": [
        {
         "name": "index",
         "rawType": "int64",
         "type": "integer"
        },
        {
         "name": "PERP_RACE",
         "rawType": "object",
         "type": "string"
        },
        {
         "name": "count",
         "rawType": "int64",
         "type": "integer"
        }
       ],
       "conversionMethod": "pd.DataFrame",
       "ref": "b0227630-a91e-4153-bd7e-12f3bc20cf6f",
       "rows": [
        [
         "0",
         "BLACK",
         "33878"
        ],
        [
         "1",
         "WHITE HISPANIC",
         "18314"
        ],
        [
         "2",
         "WHITE",
         "7244"
        ],
        [
         "3",
         "BLACK HISPANIC",
         "6963"
        ],
        [
         "4",
         "ASIAN / PACIFIC ISLANDER",
         "4114"
        ]
       ],
       "shape": {
        "columns": 2,
        "rows": 5
       }
      },
      "text/html": [
       "<div>\n",
       "<style scoped>\n",
       "    .dataframe tbody tr th:only-of-type {\n",
       "        vertical-align: middle;\n",
       "    }\n",
       "\n",
       "    .dataframe tbody tr th {\n",
       "        vertical-align: top;\n",
       "    }\n",
       "\n",
       "    .dataframe thead th {\n",
       "        text-align: right;\n",
       "    }\n",
       "</style>\n",
       "<table border=\"1\" class=\"dataframe\">\n",
       "  <thead>\n",
       "    <tr style=\"text-align: right;\">\n",
       "      <th></th>\n",
       "      <th>PERP_RACE</th>\n",
       "      <th>count</th>\n",
       "    </tr>\n",
       "  </thead>\n",
       "  <tbody>\n",
       "    <tr>\n",
       "      <th>0</th>\n",
       "      <td>BLACK</td>\n",
       "      <td>33878</td>\n",
       "    </tr>\n",
       "    <tr>\n",
       "      <th>1</th>\n",
       "      <td>WHITE HISPANIC</td>\n",
       "      <td>18314</td>\n",
       "    </tr>\n",
       "    <tr>\n",
       "      <th>2</th>\n",
       "      <td>WHITE</td>\n",
       "      <td>7244</td>\n",
       "    </tr>\n",
       "    <tr>\n",
       "      <th>3</th>\n",
       "      <td>BLACK HISPANIC</td>\n",
       "      <td>6963</td>\n",
       "    </tr>\n",
       "    <tr>\n",
       "      <th>4</th>\n",
       "      <td>ASIAN / PACIFIC ISLANDER</td>\n",
       "      <td>4114</td>\n",
       "    </tr>\n",
       "  </tbody>\n",
       "</table>\n",
       "</div>"
      ],
      "text/plain": [
       "                  PERP_RACE  count\n",
       "0                     BLACK  33878\n",
       "1            WHITE HISPANIC  18314\n",
       "2                     WHITE   7244\n",
       "3            BLACK HISPANIC   6963\n",
       "4  ASIAN / PACIFIC ISLANDER   4114"
      ]
     },
     "execution_count": 5,
     "metadata": {},
     "output_type": "execute_result"
    }
   ],
   "source": [
    "df_race = df.groupby(\"PERP_RACE\", as_index=False)['PERP_RACE'].value_counts().sort_values(by='count', ascending=False).reset_index(drop=True)\n",
    "df_race.head()"
   ]
  },
  {
   "cell_type": "code",
   "execution_count": 6,
   "id": "6e301122",
   "metadata": {},
   "outputs": [
    {
     "data": {
      "application/vnd.microsoft.datawrangler.viewer.v0+json": {
       "columns": [
        {
         "name": "index",
         "rawType": "int64",
         "type": "integer"
        },
        {
         "name": "PERP_SEX",
         "rawType": "object",
         "type": "string"
        },
        {
         "name": "count",
         "rawType": "int64",
         "type": "integer"
        }
       ],
       "conversionMethod": "pd.DataFrame",
       "ref": "28247750-c53e-4bc9-90a1-b46499070ba2",
       "rows": [
        [
         "0",
         "M",
         "58528"
        ],
        [
         "1",
         "F",
         "12500"
        ]
       ],
       "shape": {
        "columns": 2,
        "rows": 2
       }
      },
      "text/html": [
       "<div>\n",
       "<style scoped>\n",
       "    .dataframe tbody tr th:only-of-type {\n",
       "        vertical-align: middle;\n",
       "    }\n",
       "\n",
       "    .dataframe tbody tr th {\n",
       "        vertical-align: top;\n",
       "    }\n",
       "\n",
       "    .dataframe thead th {\n",
       "        text-align: right;\n",
       "    }\n",
       "</style>\n",
       "<table border=\"1\" class=\"dataframe\">\n",
       "  <thead>\n",
       "    <tr style=\"text-align: right;\">\n",
       "      <th></th>\n",
       "      <th>PERP_SEX</th>\n",
       "      <th>count</th>\n",
       "    </tr>\n",
       "  </thead>\n",
       "  <tbody>\n",
       "    <tr>\n",
       "      <th>0</th>\n",
       "      <td>M</td>\n",
       "      <td>58528</td>\n",
       "    </tr>\n",
       "    <tr>\n",
       "      <th>1</th>\n",
       "      <td>F</td>\n",
       "      <td>12500</td>\n",
       "    </tr>\n",
       "  </tbody>\n",
       "</table>\n",
       "</div>"
      ],
      "text/plain": [
       "  PERP_SEX  count\n",
       "0        M  58528\n",
       "1        F  12500"
      ]
     },
     "execution_count": 6,
     "metadata": {},
     "output_type": "execute_result"
    }
   ],
   "source": [
    "df_age = df.groupby(\"PERP_SEX\", as_index=False)['PERP_SEX'].value_counts().sort_values(by='count', ascending=False).reset_index(drop=True)\n",
    "df_age.head()"
   ]
  },
  {
   "cell_type": "code",
   "execution_count": 7,
   "id": "41b78796",
   "metadata": {},
   "outputs": [
    {
     "data": {
      "application/vnd.microsoft.datawrangler.viewer.v0+json": {
       "columns": [
        {
         "name": "index",
         "rawType": "int64",
         "type": "integer"
        },
        {
         "name": "ARREST_BORO",
         "rawType": "object",
         "type": "string"
        },
        {
         "name": "count",
         "rawType": "int64",
         "type": "integer"
        }
       ],
       "conversionMethod": "pd.DataFrame",
       "ref": "aae2d43f-9a81-45ec-91c8-f8948825588e",
       "rows": [
        [
         "0",
         "K",
         "20024"
        ],
        [
         "1",
         "M",
         "17067"
        ],
        [
         "2",
         "B",
         "15776"
        ],
        [
         "3",
         "Q",
         "15154"
        ],
        [
         "4",
         "S",
         "3007"
        ]
       ],
       "shape": {
        "columns": 2,
        "rows": 5
       }
      },
      "text/html": [
       "<div>\n",
       "<style scoped>\n",
       "    .dataframe tbody tr th:only-of-type {\n",
       "        vertical-align: middle;\n",
       "    }\n",
       "\n",
       "    .dataframe tbody tr th {\n",
       "        vertical-align: top;\n",
       "    }\n",
       "\n",
       "    .dataframe thead th {\n",
       "        text-align: right;\n",
       "    }\n",
       "</style>\n",
       "<table border=\"1\" class=\"dataframe\">\n",
       "  <thead>\n",
       "    <tr style=\"text-align: right;\">\n",
       "      <th></th>\n",
       "      <th>ARREST_BORO</th>\n",
       "      <th>count</th>\n",
       "    </tr>\n",
       "  </thead>\n",
       "  <tbody>\n",
       "    <tr>\n",
       "      <th>0</th>\n",
       "      <td>K</td>\n",
       "      <td>20024</td>\n",
       "    </tr>\n",
       "    <tr>\n",
       "      <th>1</th>\n",
       "      <td>M</td>\n",
       "      <td>17067</td>\n",
       "    </tr>\n",
       "    <tr>\n",
       "      <th>2</th>\n",
       "      <td>B</td>\n",
       "      <td>15776</td>\n",
       "    </tr>\n",
       "    <tr>\n",
       "      <th>3</th>\n",
       "      <td>Q</td>\n",
       "      <td>15154</td>\n",
       "    </tr>\n",
       "    <tr>\n",
       "      <th>4</th>\n",
       "      <td>S</td>\n",
       "      <td>3007</td>\n",
       "    </tr>\n",
       "  </tbody>\n",
       "</table>\n",
       "</div>"
      ],
      "text/plain": [
       "  ARREST_BORO  count\n",
       "0           K  20024\n",
       "1           M  17067\n",
       "2           B  15776\n",
       "3           Q  15154\n",
       "4           S   3007"
      ]
     },
     "execution_count": 7,
     "metadata": {},
     "output_type": "execute_result"
    }
   ],
   "source": [
    "df_borough = df.groupby(\"ARREST_BORO\", as_index=False)['ARREST_BORO'].value_counts().sort_values(by='count', ascending=False).reset_index(drop=True)\n",
    "df_borough.head()"
   ]
  },
  {
   "cell_type": "code",
   "execution_count": 8,
   "id": "f267a48c",
   "metadata": {},
   "outputs": [
    {
     "data": {
      "application/vnd.microsoft.datawrangler.viewer.v0+json": {
       "columns": [
        {
         "name": "index",
         "rawType": "int64",
         "type": "integer"
        },
        {
         "name": "DAY_OF_WEEK",
         "rawType": "object",
         "type": "string"
        },
        {
         "name": "count",
         "rawType": "int64",
         "type": "integer"
        }
       ],
       "conversionMethod": "pd.DataFrame",
       "ref": "465e7ecd-20d2-4a75-95e4-5183a127d384",
       "rows": [
        [
         "0",
         "Wednesday",
         "12618"
        ],
        [
         "1",
         "Thursday",
         "11733"
        ],
        [
         "2",
         "Tuesday",
         "10991"
        ],
        [
         "3",
         "Friday",
         "10408"
        ],
        [
         "4",
         "Saturday",
         "8875"
        ]
       ],
       "shape": {
        "columns": 2,
        "rows": 5
       }
      },
      "text/html": [
       "<div>\n",
       "<style scoped>\n",
       "    .dataframe tbody tr th:only-of-type {\n",
       "        vertical-align: middle;\n",
       "    }\n",
       "\n",
       "    .dataframe tbody tr th {\n",
       "        vertical-align: top;\n",
       "    }\n",
       "\n",
       "    .dataframe thead th {\n",
       "        text-align: right;\n",
       "    }\n",
       "</style>\n",
       "<table border=\"1\" class=\"dataframe\">\n",
       "  <thead>\n",
       "    <tr style=\"text-align: right;\">\n",
       "      <th></th>\n",
       "      <th>DAY_OF_WEEK</th>\n",
       "      <th>count</th>\n",
       "    </tr>\n",
       "  </thead>\n",
       "  <tbody>\n",
       "    <tr>\n",
       "      <th>0</th>\n",
       "      <td>Wednesday</td>\n",
       "      <td>12618</td>\n",
       "    </tr>\n",
       "    <tr>\n",
       "      <th>1</th>\n",
       "      <td>Thursday</td>\n",
       "      <td>11733</td>\n",
       "    </tr>\n",
       "    <tr>\n",
       "      <th>2</th>\n",
       "      <td>Tuesday</td>\n",
       "      <td>10991</td>\n",
       "    </tr>\n",
       "    <tr>\n",
       "      <th>3</th>\n",
       "      <td>Friday</td>\n",
       "      <td>10408</td>\n",
       "    </tr>\n",
       "    <tr>\n",
       "      <th>4</th>\n",
       "      <td>Saturday</td>\n",
       "      <td>8875</td>\n",
       "    </tr>\n",
       "  </tbody>\n",
       "</table>\n",
       "</div>"
      ],
      "text/plain": [
       "  DAY_OF_WEEK  count\n",
       "0   Wednesday  12618\n",
       "1    Thursday  11733\n",
       "2     Tuesday  10991\n",
       "3      Friday  10408\n",
       "4    Saturday   8875"
      ]
     },
     "execution_count": 8,
     "metadata": {},
     "output_type": "execute_result"
    }
   ],
   "source": [
    "df_day = df.groupby(\"DAY_OF_WEEK\", as_index=False)['DAY_OF_WEEK'].value_counts().sort_values(by='count', ascending=False).reset_index(drop=True)\n",
    "df_day.head()"
   ]
  },
  {
   "cell_type": "code",
   "execution_count": 9,
   "id": "bab57068",
   "metadata": {},
   "outputs": [
    {
     "data": {
      "application/vnd.microsoft.datawrangler.viewer.v0+json": {
       "columns": [
        {
         "name": "index",
         "rawType": "int64",
         "type": "integer"
        },
        {
         "name": "OFNS_DESC",
         "rawType": "object",
         "type": "string"
        },
        {
         "name": "count",
         "rawType": "int64",
         "type": "integer"
        }
       ],
       "conversionMethod": "pd.DataFrame",
       "ref": "a6f6b967-dc4d-4329-a92f-63484d67c989",
       "rows": [
        [
         "0",
         "ASSAULT 3 & RELATED OFFENSES",
         "9185"
        ],
        [
         "1",
         "PETIT LARCENY",
         "7447"
        ],
        [
         "2",
         "DANGEROUS DRUGS",
         "6146"
        ],
        [
         "3",
         "FELONY ASSAULT",
         "5285"
        ],
        [
         "4",
         "MISCELLANEOUS PENAL LAW",
         "4730"
        ]
       ],
       "shape": {
        "columns": 2,
        "rows": 5
       }
      },
      "text/html": [
       "<div>\n",
       "<style scoped>\n",
       "    .dataframe tbody tr th:only-of-type {\n",
       "        vertical-align: middle;\n",
       "    }\n",
       "\n",
       "    .dataframe tbody tr th {\n",
       "        vertical-align: top;\n",
       "    }\n",
       "\n",
       "    .dataframe thead th {\n",
       "        text-align: right;\n",
       "    }\n",
       "</style>\n",
       "<table border=\"1\" class=\"dataframe\">\n",
       "  <thead>\n",
       "    <tr style=\"text-align: right;\">\n",
       "      <th></th>\n",
       "      <th>OFNS_DESC</th>\n",
       "      <th>count</th>\n",
       "    </tr>\n",
       "  </thead>\n",
       "  <tbody>\n",
       "    <tr>\n",
       "      <th>0</th>\n",
       "      <td>ASSAULT 3 &amp; RELATED OFFENSES</td>\n",
       "      <td>9185</td>\n",
       "    </tr>\n",
       "    <tr>\n",
       "      <th>1</th>\n",
       "      <td>PETIT LARCENY</td>\n",
       "      <td>7447</td>\n",
       "    </tr>\n",
       "    <tr>\n",
       "      <th>2</th>\n",
       "      <td>DANGEROUS DRUGS</td>\n",
       "      <td>6146</td>\n",
       "    </tr>\n",
       "    <tr>\n",
       "      <th>3</th>\n",
       "      <td>FELONY ASSAULT</td>\n",
       "      <td>5285</td>\n",
       "    </tr>\n",
       "    <tr>\n",
       "      <th>4</th>\n",
       "      <td>MISCELLANEOUS PENAL LAW</td>\n",
       "      <td>4730</td>\n",
       "    </tr>\n",
       "  </tbody>\n",
       "</table>\n",
       "</div>"
      ],
      "text/plain": [
       "                      OFNS_DESC  count\n",
       "0  ASSAULT 3 & RELATED OFFENSES   9185\n",
       "1                 PETIT LARCENY   7447\n",
       "2               DANGEROUS DRUGS   6146\n",
       "3                FELONY ASSAULT   5285\n",
       "4       MISCELLANEOUS PENAL LAW   4730"
      ]
     },
     "execution_count": 9,
     "metadata": {},
     "output_type": "execute_result"
    }
   ],
   "source": [
    "df_crime = df.groupby(\"OFNS_DESC\", as_index=False)['OFNS_DESC'].value_counts().sort_values(by='count', ascending=False).reset_index(drop=True)\n",
    "df_crime.head()"
   ]
  },
  {
   "cell_type": "code",
   "execution_count": 10,
   "id": "49f4a261",
   "metadata": {},
   "outputs": [
    {
     "data": {
      "application/vnd.microsoft.datawrangler.viewer.v0+json": {
       "columns": [
        {
         "name": "index",
         "rawType": "int64",
         "type": "integer"
        },
        {
         "name": "PD_DESC",
         "rawType": "object",
         "type": "string"
        },
        {
         "name": "count",
         "rawType": "int64",
         "type": "integer"
        }
       ],
       "conversionMethod": "pd.DataFrame",
       "ref": "0fd28fcf-d778-450e-b7c2-9075d89bd02f",
       "rows": [
        [
         "0",
         "LARCENY,PETIT FROM OPEN AREAS,",
         "7447"
        ],
        [
         "1",
         "ASSAULT 3",
         "6737"
        ],
        [
         "2",
         "THEFT OF SERVICES, UNCLASSIFIE",
         "4534"
        ],
        [
         "3",
         "TRAFFIC,UNCLASSIFIED MISDEMEAN",
         "4435"
        ],
        [
         "4",
         "ASSAULT 2,1,UNCLASSIFIED",
         "3601"
        ]
       ],
       "shape": {
        "columns": 2,
        "rows": 5
       }
      },
      "text/html": [
       "<div>\n",
       "<style scoped>\n",
       "    .dataframe tbody tr th:only-of-type {\n",
       "        vertical-align: middle;\n",
       "    }\n",
       "\n",
       "    .dataframe tbody tr th {\n",
       "        vertical-align: top;\n",
       "    }\n",
       "\n",
       "    .dataframe thead th {\n",
       "        text-align: right;\n",
       "    }\n",
       "</style>\n",
       "<table border=\"1\" class=\"dataframe\">\n",
       "  <thead>\n",
       "    <tr style=\"text-align: right;\">\n",
       "      <th></th>\n",
       "      <th>PD_DESC</th>\n",
       "      <th>count</th>\n",
       "    </tr>\n",
       "  </thead>\n",
       "  <tbody>\n",
       "    <tr>\n",
       "      <th>0</th>\n",
       "      <td>LARCENY,PETIT FROM OPEN AREAS,</td>\n",
       "      <td>7447</td>\n",
       "    </tr>\n",
       "    <tr>\n",
       "      <th>1</th>\n",
       "      <td>ASSAULT 3</td>\n",
       "      <td>6737</td>\n",
       "    </tr>\n",
       "    <tr>\n",
       "      <th>2</th>\n",
       "      <td>THEFT OF SERVICES, UNCLASSIFIE</td>\n",
       "      <td>4534</td>\n",
       "    </tr>\n",
       "    <tr>\n",
       "      <th>3</th>\n",
       "      <td>TRAFFIC,UNCLASSIFIED MISDEMEAN</td>\n",
       "      <td>4435</td>\n",
       "    </tr>\n",
       "    <tr>\n",
       "      <th>4</th>\n",
       "      <td>ASSAULT 2,1,UNCLASSIFIED</td>\n",
       "      <td>3601</td>\n",
       "    </tr>\n",
       "  </tbody>\n",
       "</table>\n",
       "</div>"
      ],
      "text/plain": [
       "                          PD_DESC  count\n",
       "0  LARCENY,PETIT FROM OPEN AREAS,   7447\n",
       "1                       ASSAULT 3   6737\n",
       "2  THEFT OF SERVICES, UNCLASSIFIE   4534\n",
       "3  TRAFFIC,UNCLASSIFIED MISDEMEAN   4435\n",
       "4        ASSAULT 2,1,UNCLASSIFIED   3601"
      ]
     },
     "execution_count": 10,
     "metadata": {},
     "output_type": "execute_result"
    }
   ],
   "source": [
    "df_crime_detailed = df.groupby(\"PD_DESC\", as_index=False)['PD_DESC'].value_counts().sort_values(by='count', ascending=False).reset_index(drop=True)\n",
    "df_crime_detailed.head()"
   ]
  },
  {
   "cell_type": "code",
   "execution_count": null,
   "id": "19296d1f",
   "metadata": {},
   "outputs": [],
   "source": []
  }
 ],
 "metadata": {
  "kernelspec": {
   "display_name": "nyc_analysis",
   "language": "python",
   "name": "python3"
  },
  "language_info": {
   "codemirror_mode": {
    "name": "ipython",
    "version": 3
   },
   "file_extension": ".py",
   "mimetype": "text/x-python",
   "name": "python",
   "nbconvert_exporter": "python",
   "pygments_lexer": "ipython3",
   "version": "3.13.3"
  }
 },
 "nbformat": 4,
 "nbformat_minor": 5
}
