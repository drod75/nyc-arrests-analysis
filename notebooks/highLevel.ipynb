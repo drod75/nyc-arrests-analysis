{
 "cells": [
  {
   "cell_type": "markdown",
   "id": "8feaf6ab",
   "metadata": {},
   "source": [
    "### 3. High-level analysis\n",
    "\n",
    "Perform **at least 6** higher-level analyses of your data. You are free to use any techniques we discussed in class, including but not limited to:\n",
    "\n",
    "* Use Pandas features to answer specific questions about the data\n",
    "* Perform a cluster analysis to identify groups within your data\n",
    "* Identify and motivate a machine learning problem in your data (classification or regression). Create a train/test/validation split and evaluate how well an appropriate model performs\n",
    "* Perform a linear regression to show the relationship between two variables\n",
    "\n",
    "If applicable to an analysis, you **must** include:\n",
    "\n",
    "* Appropriate statistical test(s)\n",
    "* An appropriate visualization.\n",
    "\n",
    "Please take advantage of the check-ins or office hours if you are unsure whether a visualization or statistical test is necessary for an analysis."
   ]
  },
  {
   "cell_type": "code",
   "execution_count": 1,
   "id": "0ca1af4f",
   "metadata": {},
   "outputs": [
    {
     "data": {
      "application/vnd.microsoft.datawrangler.viewer.v0+json": {
       "columns": [
        {
         "name": "index",
         "rawType": "int64",
         "type": "integer"
        },
        {
         "name": "ARREST_KEY",
         "rawType": "int64",
         "type": "integer"
        },
        {
         "name": "ARREST_DATE",
         "rawType": "datetime64[ns]",
         "type": "datetime"
        },
        {
         "name": "PD_CD",
         "rawType": "int64",
         "type": "integer"
        },
        {
         "name": "PD_DESC",
         "rawType": "object",
         "type": "string"
        },
        {
         "name": "KY_CD",
         "rawType": "float64",
         "type": "float"
        },
        {
         "name": "OFNS_DESC",
         "rawType": "object",
         "type": "string"
        },
        {
         "name": "LAW_CODE",
         "rawType": "object",
         "type": "string"
        },
        {
         "name": "LAW_CAT_CD",
         "rawType": "object",
         "type": "string"
        },
        {
         "name": "ARREST_BORO",
         "rawType": "object",
         "type": "string"
        },
        {
         "name": "ARREST_PRECINCT",
         "rawType": "int64",
         "type": "integer"
        },
        {
         "name": "JURISDICTION_CODE",
         "rawType": "int64",
         "type": "integer"
        },
        {
         "name": "AGE_GROUP",
         "rawType": "object",
         "type": "string"
        },
        {
         "name": "PERP_SEX",
         "rawType": "object",
         "type": "string"
        },
        {
         "name": "PERP_RACE",
         "rawType": "object",
         "type": "string"
        },
        {
         "name": "X_COORD_CD",
         "rawType": "int64",
         "type": "integer"
        },
        {
         "name": "Y_COORD_CD",
         "rawType": "int64",
         "type": "integer"
        },
        {
         "name": "Latitude",
         "rawType": "float64",
         "type": "float"
        },
        {
         "name": "Longitude",
         "rawType": "float64",
         "type": "float"
        },
        {
         "name": "New Georeferenced Column",
         "rawType": "object",
         "type": "string"
        },
        {
         "name": "MIN_AGE",
         "rawType": "int64",
         "type": "integer"
        },
        {
         "name": "MAX_AGE",
         "rawType": "int64",
         "type": "integer"
        },
        {
         "name": "DAY_OF_WEEK",
         "rawType": "object",
         "type": "string"
        },
        {
         "name": "MONTH",
         "rawType": "object",
         "type": "string"
        }
       ],
       "conversionMethod": "pd.DataFrame",
       "ref": "2c01009e-23ca-4852-8e42-4cbcc8da5442",
       "rows": [
        [
         "0",
         "298799078",
         "2025-01-02 00:00:00",
         "101",
         "ASSAULT 3",
         "344.0",
         "ASSAULT 3 & RELATED OFFENSES",
         "PL 1200001",
         "M",
         "M",
         "23",
         "0",
         "25-44",
         "F",
         "BLACK",
         "1000213",
         "228833",
         "40.79475532416718",
         "-73.9423482609703",
         "POINT (-73.9423482609703 40.79475532416718)",
         "25",
         "44",
         "Thursday",
         "January"
        ],
        [
         "1",
         "299008265",
         "2025-01-07 00:00:00",
         "105",
         "STRANGULATION 1ST",
         "106.0",
         "FELONY ASSAULT",
         "PL 1211200",
         "F",
         "Q",
         "113",
         "0",
         "45-64",
         "M",
         "BLACK",
         "1046399",
         "187126",
         "40.680086",
         "-73.775931",
         "POINT (-73.775931 40.680086)",
         "45",
         "64",
         "Tuesday",
         "January"
        ],
        [
         "2",
         "298969999",
         "2025-01-06 00:00:00",
         "793",
         "WEAPONS POSSESSION 3",
         "118.0",
         "DANGEROUS WEAPONS",
         "PL 2650201",
         "F",
         "M",
         "5",
         "73",
         "25-44",
         "M",
         "WHITE",
         "983907",
         "199958",
         "40.715526",
         "-74.001238",
         "POINT (-74.001238 40.715526)",
         "25",
         "44",
         "Monday",
         "January"
        ],
        [
         "3",
         "299436365",
         "2025-01-14 00:00:00",
         "157",
         "RAPE 1",
         "104.0",
         "RAPE",
         "PL 130352B",
         "F",
         "Q",
         "112",
         "0",
         "45-64",
         "M",
         "BLACK",
         "1025401",
         "202586",
         "40.7226409964758",
         "-73.8515418216779",
         "POINT (-73.8515418216779 40.7226409964758)",
         "45",
         "64",
         "Tuesday",
         "January"
        ],
        [
         "4",
         "299562518",
         "2025-01-16 00:00:00",
         "397",
         "ROBBERY,OPEN AREA UNCLASSIFIED",
         "105.0",
         "ROBBERY",
         "PL 1601504",
         "F",
         "M",
         "26",
         "0",
         "<18",
         "M",
         "BLACK",
         "996342",
         "236149",
         "40.814853",
         "-73.956314",
         "POINT (-73.956314 40.814853)",
         "0",
         "17",
         "Thursday",
         "January"
        ]
       ],
       "shape": {
        "columns": 23,
        "rows": 5
       }
      },
      "text/html": [
       "<div>\n",
       "<style scoped>\n",
       "    .dataframe tbody tr th:only-of-type {\n",
       "        vertical-align: middle;\n",
       "    }\n",
       "\n",
       "    .dataframe tbody tr th {\n",
       "        vertical-align: top;\n",
       "    }\n",
       "\n",
       "    .dataframe thead th {\n",
       "        text-align: right;\n",
       "    }\n",
       "</style>\n",
       "<table border=\"1\" class=\"dataframe\">\n",
       "  <thead>\n",
       "    <tr style=\"text-align: right;\">\n",
       "      <th></th>\n",
       "      <th>ARREST_KEY</th>\n",
       "      <th>ARREST_DATE</th>\n",
       "      <th>PD_CD</th>\n",
       "      <th>PD_DESC</th>\n",
       "      <th>KY_CD</th>\n",
       "      <th>OFNS_DESC</th>\n",
       "      <th>LAW_CODE</th>\n",
       "      <th>LAW_CAT_CD</th>\n",
       "      <th>ARREST_BORO</th>\n",
       "      <th>ARREST_PRECINCT</th>\n",
       "      <th>...</th>\n",
       "      <th>PERP_RACE</th>\n",
       "      <th>X_COORD_CD</th>\n",
       "      <th>Y_COORD_CD</th>\n",
       "      <th>Latitude</th>\n",
       "      <th>Longitude</th>\n",
       "      <th>New Georeferenced Column</th>\n",
       "      <th>MIN_AGE</th>\n",
       "      <th>MAX_AGE</th>\n",
       "      <th>DAY_OF_WEEK</th>\n",
       "      <th>MONTH</th>\n",
       "    </tr>\n",
       "  </thead>\n",
       "  <tbody>\n",
       "    <tr>\n",
       "      <th>0</th>\n",
       "      <td>298799078</td>\n",
       "      <td>2025-01-02</td>\n",
       "      <td>101</td>\n",
       "      <td>ASSAULT 3</td>\n",
       "      <td>344.0</td>\n",
       "      <td>ASSAULT 3 &amp; RELATED OFFENSES</td>\n",
       "      <td>PL 1200001</td>\n",
       "      <td>M</td>\n",
       "      <td>M</td>\n",
       "      <td>23</td>\n",
       "      <td>...</td>\n",
       "      <td>BLACK</td>\n",
       "      <td>1000213</td>\n",
       "      <td>228833</td>\n",
       "      <td>40.794755</td>\n",
       "      <td>-73.942348</td>\n",
       "      <td>POINT (-73.9423482609703 40.79475532416718)</td>\n",
       "      <td>25</td>\n",
       "      <td>44</td>\n",
       "      <td>Thursday</td>\n",
       "      <td>January</td>\n",
       "    </tr>\n",
       "    <tr>\n",
       "      <th>1</th>\n",
       "      <td>299008265</td>\n",
       "      <td>2025-01-07</td>\n",
       "      <td>105</td>\n",
       "      <td>STRANGULATION 1ST</td>\n",
       "      <td>106.0</td>\n",
       "      <td>FELONY ASSAULT</td>\n",
       "      <td>PL 1211200</td>\n",
       "      <td>F</td>\n",
       "      <td>Q</td>\n",
       "      <td>113</td>\n",
       "      <td>...</td>\n",
       "      <td>BLACK</td>\n",
       "      <td>1046399</td>\n",
       "      <td>187126</td>\n",
       "      <td>40.680086</td>\n",
       "      <td>-73.775931</td>\n",
       "      <td>POINT (-73.775931 40.680086)</td>\n",
       "      <td>45</td>\n",
       "      <td>64</td>\n",
       "      <td>Tuesday</td>\n",
       "      <td>January</td>\n",
       "    </tr>\n",
       "    <tr>\n",
       "      <th>2</th>\n",
       "      <td>298969999</td>\n",
       "      <td>2025-01-06</td>\n",
       "      <td>793</td>\n",
       "      <td>WEAPONS POSSESSION 3</td>\n",
       "      <td>118.0</td>\n",
       "      <td>DANGEROUS WEAPONS</td>\n",
       "      <td>PL 2650201</td>\n",
       "      <td>F</td>\n",
       "      <td>M</td>\n",
       "      <td>5</td>\n",
       "      <td>...</td>\n",
       "      <td>WHITE</td>\n",
       "      <td>983907</td>\n",
       "      <td>199958</td>\n",
       "      <td>40.715526</td>\n",
       "      <td>-74.001238</td>\n",
       "      <td>POINT (-74.001238 40.715526)</td>\n",
       "      <td>25</td>\n",
       "      <td>44</td>\n",
       "      <td>Monday</td>\n",
       "      <td>January</td>\n",
       "    </tr>\n",
       "    <tr>\n",
       "      <th>3</th>\n",
       "      <td>299436365</td>\n",
       "      <td>2025-01-14</td>\n",
       "      <td>157</td>\n",
       "      <td>RAPE 1</td>\n",
       "      <td>104.0</td>\n",
       "      <td>RAPE</td>\n",
       "      <td>PL 130352B</td>\n",
       "      <td>F</td>\n",
       "      <td>Q</td>\n",
       "      <td>112</td>\n",
       "      <td>...</td>\n",
       "      <td>BLACK</td>\n",
       "      <td>1025401</td>\n",
       "      <td>202586</td>\n",
       "      <td>40.722641</td>\n",
       "      <td>-73.851542</td>\n",
       "      <td>POINT (-73.8515418216779 40.7226409964758)</td>\n",
       "      <td>45</td>\n",
       "      <td>64</td>\n",
       "      <td>Tuesday</td>\n",
       "      <td>January</td>\n",
       "    </tr>\n",
       "    <tr>\n",
       "      <th>4</th>\n",
       "      <td>299562518</td>\n",
       "      <td>2025-01-16</td>\n",
       "      <td>397</td>\n",
       "      <td>ROBBERY,OPEN AREA UNCLASSIFIED</td>\n",
       "      <td>105.0</td>\n",
       "      <td>ROBBERY</td>\n",
       "      <td>PL 1601504</td>\n",
       "      <td>F</td>\n",
       "      <td>M</td>\n",
       "      <td>26</td>\n",
       "      <td>...</td>\n",
       "      <td>BLACK</td>\n",
       "      <td>996342</td>\n",
       "      <td>236149</td>\n",
       "      <td>40.814853</td>\n",
       "      <td>-73.956314</td>\n",
       "      <td>POINT (-73.956314 40.814853)</td>\n",
       "      <td>0</td>\n",
       "      <td>17</td>\n",
       "      <td>Thursday</td>\n",
       "      <td>January</td>\n",
       "    </tr>\n",
       "  </tbody>\n",
       "</table>\n",
       "<p>5 rows × 23 columns</p>\n",
       "</div>"
      ],
      "text/plain": [
       "   ARREST_KEY ARREST_DATE  PD_CD                         PD_DESC  KY_CD  \\\n",
       "0   298799078  2025-01-02    101                       ASSAULT 3  344.0   \n",
       "1   299008265  2025-01-07    105               STRANGULATION 1ST  106.0   \n",
       "2   298969999  2025-01-06    793            WEAPONS POSSESSION 3  118.0   \n",
       "3   299436365  2025-01-14    157                          RAPE 1  104.0   \n",
       "4   299562518  2025-01-16    397  ROBBERY,OPEN AREA UNCLASSIFIED  105.0   \n",
       "\n",
       "                      OFNS_DESC    LAW_CODE LAW_CAT_CD ARREST_BORO  \\\n",
       "0  ASSAULT 3 & RELATED OFFENSES  PL 1200001          M           M   \n",
       "1                FELONY ASSAULT  PL 1211200          F           Q   \n",
       "2             DANGEROUS WEAPONS  PL 2650201          F           M   \n",
       "3                          RAPE  PL 130352B          F           Q   \n",
       "4                       ROBBERY  PL 1601504          F           M   \n",
       "\n",
       "   ARREST_PRECINCT  ...  PERP_RACE X_COORD_CD Y_COORD_CD   Latitude  \\\n",
       "0               23  ...      BLACK    1000213     228833  40.794755   \n",
       "1              113  ...      BLACK    1046399     187126  40.680086   \n",
       "2                5  ...      WHITE     983907     199958  40.715526   \n",
       "3              112  ...      BLACK    1025401     202586  40.722641   \n",
       "4               26  ...      BLACK     996342     236149  40.814853   \n",
       "\n",
       "   Longitude                     New Georeferenced Column  MIN_AGE  MAX_AGE  \\\n",
       "0 -73.942348  POINT (-73.9423482609703 40.79475532416718)       25       44   \n",
       "1 -73.775931                 POINT (-73.775931 40.680086)       45       64   \n",
       "2 -74.001238                 POINT (-74.001238 40.715526)       25       44   \n",
       "3 -73.851542   POINT (-73.8515418216779 40.7226409964758)       45       64   \n",
       "4 -73.956314                 POINT (-73.956314 40.814853)        0       17   \n",
       "\n",
       "  DAY_OF_WEEK    MONTH  \n",
       "0    Thursday  January  \n",
       "1     Tuesday  January  \n",
       "2      Monday  January  \n",
       "3     Tuesday  January  \n",
       "4    Thursday  January  \n",
       "\n",
       "[5 rows x 23 columns]"
      ]
     },
     "execution_count": 1,
     "metadata": {},
     "output_type": "execute_result"
    }
   ],
   "source": [
    "import pandas as pd\n",
    "\n",
    "df = pd.read_csv(\"../datasets/processed/arrests2025_cleaned.csv\")\n",
    "df['ARREST_DATE'] = pd.to_datetime(df['ARREST_DATE'])\n",
    "df.head()"
   ]
  },
  {
   "cell_type": "code",
   "execution_count": 2,
   "id": "e9f14255",
   "metadata": {},
   "outputs": [
    {
     "name": "stdout",
     "output_type": "stream",
     "text": [
      "<class 'pandas.core.frame.DataFrame'>\n",
      "RangeIndex: 71028 entries, 0 to 71027\n",
      "Data columns (total 23 columns):\n",
      " #   Column                    Non-Null Count  Dtype         \n",
      "---  ------                    --------------  -----         \n",
      " 0   ARREST_KEY                71028 non-null  int64         \n",
      " 1   ARREST_DATE               71028 non-null  datetime64[ns]\n",
      " 2   PD_CD                     71028 non-null  int64         \n",
      " 3   PD_DESC                   71028 non-null  object        \n",
      " 4   KY_CD                     71024 non-null  float64       \n",
      " 5   OFNS_DESC                 71028 non-null  object        \n",
      " 6   LAW_CODE                  71028 non-null  object        \n",
      " 7   LAW_CAT_CD                70668 non-null  object        \n",
      " 8   ARREST_BORO               71028 non-null  object        \n",
      " 9   ARREST_PRECINCT           71028 non-null  int64         \n",
      " 10  JURISDICTION_CODE         71028 non-null  int64         \n",
      " 11  AGE_GROUP                 71028 non-null  object        \n",
      " 12  PERP_SEX                  71028 non-null  object        \n",
      " 13  PERP_RACE                 71028 non-null  object        \n",
      " 14  X_COORD_CD                71028 non-null  int64         \n",
      " 15  Y_COORD_CD                71028 non-null  int64         \n",
      " 16  Latitude                  71028 non-null  float64       \n",
      " 17  Longitude                 71028 non-null  float64       \n",
      " 18  New Georeferenced Column  71028 non-null  object        \n",
      " 19  MIN_AGE                   71028 non-null  int64         \n",
      " 20  MAX_AGE                   71028 non-null  int64         \n",
      " 21  DAY_OF_WEEK               71028 non-null  object        \n",
      " 22  MONTH                     71028 non-null  object        \n",
      "dtypes: datetime64[ns](1), float64(3), int64(8), object(11)\n",
      "memory usage: 12.5+ MB\n"
     ]
    }
   ],
   "source": [
    "df.info()"
   ]
  },
  {
   "cell_type": "code",
   "execution_count": 44,
   "id": "6aff9d41",
   "metadata": {},
   "outputs": [
    {
     "data": {
      "application/vnd.microsoft.datawrangler.viewer.v0+json": {
       "columns": [
        {
         "name": "index",
         "rawType": "int64",
         "type": "integer"
        },
        {
         "name": "ARREST_BORO",
         "rawType": "object",
         "type": "string"
        },
        {
         "name": "AGE_GROUP",
         "rawType": "object",
         "type": "string"
        },
        {
         "name": "PERP_SEX",
         "rawType": "object",
         "type": "string"
        },
        {
         "name": "PERP_RACE",
         "rawType": "object",
         "type": "string"
        },
        {
         "name": "ARREST_COUNT",
         "rawType": "int64",
         "type": "integer"
        }
       ],
       "conversionMethod": "pd.DataFrame",
       "ref": "d8671bcc-660f-443b-9f41-08c36d5575b0",
       "rows": [
        [
         "0",
         "B",
         "18-24",
         "F",
         "ASIAN / PACIFIC ISLANDER",
         "5"
        ],
        [
         "1",
         "B",
         "18-24",
         "F",
         "BLACK",
         "232"
        ],
        [
         "2",
         "B",
         "18-24",
         "F",
         "BLACK HISPANIC",
         "67"
        ],
        [
         "3",
         "B",
         "18-24",
         "F",
         "UNKNOWN",
         "4"
        ],
        [
         "4",
         "B",
         "18-24",
         "F",
         "WHITE",
         "13"
        ]
       ],
       "shape": {
        "columns": 5,
        "rows": 5
       }
      },
      "text/html": [
       "<div>\n",
       "<style scoped>\n",
       "    .dataframe tbody tr th:only-of-type {\n",
       "        vertical-align: middle;\n",
       "    }\n",
       "\n",
       "    .dataframe tbody tr th {\n",
       "        vertical-align: top;\n",
       "    }\n",
       "\n",
       "    .dataframe thead th {\n",
       "        text-align: right;\n",
       "    }\n",
       "</style>\n",
       "<table border=\"1\" class=\"dataframe\">\n",
       "  <thead>\n",
       "    <tr style=\"text-align: right;\">\n",
       "      <th></th>\n",
       "      <th>ARREST_BORO</th>\n",
       "      <th>AGE_GROUP</th>\n",
       "      <th>PERP_SEX</th>\n",
       "      <th>PERP_RACE</th>\n",
       "      <th>ARREST_COUNT</th>\n",
       "    </tr>\n",
       "  </thead>\n",
       "  <tbody>\n",
       "    <tr>\n",
       "      <th>0</th>\n",
       "      <td>B</td>\n",
       "      <td>18-24</td>\n",
       "      <td>F</td>\n",
       "      <td>ASIAN / PACIFIC ISLANDER</td>\n",
       "      <td>5</td>\n",
       "    </tr>\n",
       "    <tr>\n",
       "      <th>1</th>\n",
       "      <td>B</td>\n",
       "      <td>18-24</td>\n",
       "      <td>F</td>\n",
       "      <td>BLACK</td>\n",
       "      <td>232</td>\n",
       "    </tr>\n",
       "    <tr>\n",
       "      <th>2</th>\n",
       "      <td>B</td>\n",
       "      <td>18-24</td>\n",
       "      <td>F</td>\n",
       "      <td>BLACK HISPANIC</td>\n",
       "      <td>67</td>\n",
       "    </tr>\n",
       "    <tr>\n",
       "      <th>3</th>\n",
       "      <td>B</td>\n",
       "      <td>18-24</td>\n",
       "      <td>F</td>\n",
       "      <td>UNKNOWN</td>\n",
       "      <td>4</td>\n",
       "    </tr>\n",
       "    <tr>\n",
       "      <th>4</th>\n",
       "      <td>B</td>\n",
       "      <td>18-24</td>\n",
       "      <td>F</td>\n",
       "      <td>WHITE</td>\n",
       "      <td>13</td>\n",
       "    </tr>\n",
       "  </tbody>\n",
       "</table>\n",
       "</div>"
      ],
      "text/plain": [
       "  ARREST_BORO AGE_GROUP PERP_SEX                 PERP_RACE  ARREST_COUNT\n",
       "0           B     18-24        F  ASIAN / PACIFIC ISLANDER             5\n",
       "1           B     18-24        F                     BLACK           232\n",
       "2           B     18-24        F            BLACK HISPANIC            67\n",
       "3           B     18-24        F                   UNKNOWN             4\n",
       "4           B     18-24        F                     WHITE            13"
      ]
     },
     "execution_count": 44,
     "metadata": {},
     "output_type": "execute_result"
    }
   ],
   "source": [
    "df_demographics = df.groupby(['ARREST_BORO','AGE_GROUP', 'PERP_SEX', 'PERP_RACE']).size().reset_index(name='ARREST_COUNT')\n",
    "df_demographics.head()"
   ]
  },
  {
   "cell_type": "code",
   "execution_count": 45,
   "id": "9fcddf89",
   "metadata": {},
   "outputs": [
    {
     "data": {
      "application/vnd.microsoft.datawrangler.viewer.v0+json": {
       "columns": [
        {
         "name": "index",
         "rawType": "int64",
         "type": "integer"
        },
        {
         "name": "ARREST_BORO",
         "rawType": "object",
         "type": "string"
        },
        {
         "name": "AGE_GROUP",
         "rawType": "category",
         "type": "unknown"
        },
        {
         "name": "PERP_SEX",
         "rawType": "object",
         "type": "string"
        },
        {
         "name": "PERP_RACE",
         "rawType": "object",
         "type": "string"
        },
        {
         "name": "ARREST_COUNT",
         "rawType": "int64",
         "type": "integer"
        }
       ],
       "conversionMethod": "pd.DataFrame",
       "ref": "d3154fb2-8465-4896-b61b-aaefc07890f3",
       "rows": [
        [
         "312",
         "S",
         "<18",
         "M",
         "WHITE HISPANIC",
         "14"
        ],
        [
         "187",
         "M",
         "<18",
         "M",
         "WHITE",
         "11"
        ],
        [
         "186",
         "M",
         "<18",
         "M",
         "UNKNOWN",
         "1"
        ],
        [
         "51",
         "B",
         "<18",
         "F",
         "BLACK",
         "65"
        ],
        [
         "52",
         "B",
         "<18",
         "F",
         "BLACK HISPANIC",
         "25"
        ]
       ],
       "shape": {
        "columns": 5,
        "rows": 5
       }
      },
      "text/html": [
       "<div>\n",
       "<style scoped>\n",
       "    .dataframe tbody tr th:only-of-type {\n",
       "        vertical-align: middle;\n",
       "    }\n",
       "\n",
       "    .dataframe tbody tr th {\n",
       "        vertical-align: top;\n",
       "    }\n",
       "\n",
       "    .dataframe thead th {\n",
       "        text-align: right;\n",
       "    }\n",
       "</style>\n",
       "<table border=\"1\" class=\"dataframe\">\n",
       "  <thead>\n",
       "    <tr style=\"text-align: right;\">\n",
       "      <th></th>\n",
       "      <th>ARREST_BORO</th>\n",
       "      <th>AGE_GROUP</th>\n",
       "      <th>PERP_SEX</th>\n",
       "      <th>PERP_RACE</th>\n",
       "      <th>ARREST_COUNT</th>\n",
       "    </tr>\n",
       "  </thead>\n",
       "  <tbody>\n",
       "    <tr>\n",
       "      <th>312</th>\n",
       "      <td>S</td>\n",
       "      <td>&lt;18</td>\n",
       "      <td>M</td>\n",
       "      <td>WHITE HISPANIC</td>\n",
       "      <td>14</td>\n",
       "    </tr>\n",
       "    <tr>\n",
       "      <th>187</th>\n",
       "      <td>M</td>\n",
       "      <td>&lt;18</td>\n",
       "      <td>M</td>\n",
       "      <td>WHITE</td>\n",
       "      <td>11</td>\n",
       "    </tr>\n",
       "    <tr>\n",
       "      <th>186</th>\n",
       "      <td>M</td>\n",
       "      <td>&lt;18</td>\n",
       "      <td>M</td>\n",
       "      <td>UNKNOWN</td>\n",
       "      <td>1</td>\n",
       "    </tr>\n",
       "    <tr>\n",
       "      <th>51</th>\n",
       "      <td>B</td>\n",
       "      <td>&lt;18</td>\n",
       "      <td>F</td>\n",
       "      <td>BLACK</td>\n",
       "      <td>65</td>\n",
       "    </tr>\n",
       "    <tr>\n",
       "      <th>52</th>\n",
       "      <td>B</td>\n",
       "      <td>&lt;18</td>\n",
       "      <td>F</td>\n",
       "      <td>BLACK HISPANIC</td>\n",
       "      <td>25</td>\n",
       "    </tr>\n",
       "  </tbody>\n",
       "</table>\n",
       "</div>"
      ],
      "text/plain": [
       "    ARREST_BORO AGE_GROUP PERP_SEX       PERP_RACE  ARREST_COUNT\n",
       "312           S       <18        M  WHITE HISPANIC            14\n",
       "187           M       <18        M           WHITE            11\n",
       "186           M       <18        M         UNKNOWN             1\n",
       "51            B       <18        F           BLACK            65\n",
       "52            B       <18        F  BLACK HISPANIC            25"
      ]
     },
     "execution_count": 45,
     "metadata": {},
     "output_type": "execute_result"
    }
   ],
   "source": [
    "desired_order = ['<18', '18-24', '25-44', '45-64', '65+']\n",
    "df_demographics['AGE_GROUP'] = pd.Categorical(df_demographics['AGE_GROUP'], categories=desired_order, ordered=True)\n",
    "df_demographics = df_demographics.sort_values(by='AGE_GROUP')\n",
    "df_demographics.head()\n",
    "\n"
   ]
  },
  {
   "cell_type": "code",
   "execution_count": 46,
   "id": "8bf89d7f",
   "metadata": {},
   "outputs": [
    {
     "data": {
      "image/png": "[encoded data removed]",
      "text/plain": [
       "<Figure size 1500x600 with 1 Axes>"
      ]
     },
     "metadata": {},
     "output_type": "display_data"
    },
    {
     "data": {
      "image/png": "[encoded data removed]",
      "text/plain": [
       "<Figure size 1500x600 with 1 Axes>"
      ]
     },
     "metadata": {},
     "output_type": "display_data"
    },
    {
     "data": {
      "image/png": "[encoded data removed]",
      "text/plain": [
       "<Figure size 1500x600 with 1 Axes>"
      ]
     },
     "metadata": {},
     "output_type": "display_data"
    }
   ],
   "source": [
    "import seaborn as sns\n",
    "import matplotlib.pyplot as plt\n",
    "\n",
    "sns.set_theme(context='notebook', style='darkgrid', palette='deep', font='monospace', font_scale=1, color_codes=True)\n",
    "\n",
    "# Create a grouped bar chart for `AGE_GROUP` by `PERP_SEX`\n",
    "plt.figure(figsize=(15, 6))\n",
    "a = sns.barplot(data=df_demographics, x='AGE_GROUP', y='ARREST_COUNT', hue='PERP_SEX', errorbar=None)\n",
    "plt.title('Arrest Count by Age Group and Perpetrator Sex')\n",
    "for p in a.patches:\n",
    "    height = p.get_height()\n",
    "    a.annotate(f'{height:.0f}', (p.get_x() + p.get_width() / 2, height), \n",
    "               ha='center', va='bottom', fontsize=8, color='black')\n",
    "plt.show()\n",
    "\n",
    "# Create a grouped bar chart for `AGE_GROUP` by `PERP_RACE`\n",
    "plt.figure(figsize=(15, 6))\n",
    "b = sns.barplot(data=df_demographics, x='AGE_GROUP', y='ARREST_COUNT', hue='PERP_RACE', errorbar=None)\n",
    "plt.title('Arrest Count by Age Group and Perpetrator Race')\n",
    "for p in b.patches:\n",
    "    height = p.get_height()\n",
    "    b.annotate(f'{height:.0f}', (p.get_x() + p.get_width() / 2, height), \n",
    "               ha='center', va='bottom', fontsize=8, color='black')\n",
    "plt.show()\n",
    "\n",
    "# Create a grouped bar chart for `AGE_GROUP` by `PERP_RACE`\n",
    "plt.figure(figsize=(15, 6))\n",
    "c = sns.barplot(data=df_demographics, x='AGE_GROUP', y='ARREST_COUNT', hue='ARREST_BORO', errorbar=None)\n",
    "plt.title('Arrest Count by Age Group and Perpetrator Borough')\n",
    "for p in c.patches:\n",
    "    height = p.get_height()\n",
    "    c.annotate(f'{height:.0f}', (p.get_x() + p.get_width() / 2, height), \n",
    "               ha='center', va='bottom', fontsize=8, color='black')\n",
    "plt.show()"
   ]
  },
  {
   "cell_type": "code",
   "execution_count": null,
   "id": "8496cdf8",
   "metadata": {},
   "outputs": [],
   "source": []
  }
 ],
 "metadata": {
  "kernelspec": {
   "display_name": "nyc_analysis",
   "language": "python",
   "name": "python3"
  },
  "language_info": {
   "codemirror_mode": {
    "name": "ipython",
    "version": 3
   },
   "file_extension": ".py",
   "mimetype": "text/x-python",
   "name": "python",
   "nbconvert_exporter": "python",
   "pygments_lexer": "ipython3",
   "version": "3.13.3"
  }
 },
 "nbformat": 4,
 "nbformat_minor": 5
}
